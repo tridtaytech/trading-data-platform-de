{
 "cells": [
  {
   "cell_type": "code",
   "execution_count": 13,
   "id": "9fdba83b-740d-4551-b5f6-39509777e952",
   "metadata": {
    "tags": []
   },
   "outputs": [],
   "source": [
    "# Connect DB"
   ]
  },
  {
   "cell_type": "code",
   "execution_count": 14,
   "id": "5a413fd8-b335-4f75-8a36-b1fb02cb44b0",
   "metadata": {
    "tags": []
   },
   "outputs": [
    {
     "name": "stdout",
     "output_type": "stream",
     "text": [
      "Requirement already satisfied: psycopg2-binary in /opt/conda/lib/python3.9/site-packages (2.9.10)\n",
      "Requirement already satisfied: python-dotenv in /opt/conda/lib/python3.9/site-packages (1.1.1)\n"
     ]
    }
   ],
   "source": [
    "!pip install psycopg2-binary python-dotenv"
   ]
  },
  {
   "cell_type": "code",
   "execution_count": 15,
   "id": "f375782e-4598-410b-8fa0-2ec8919117b5",
   "metadata": {
    "tags": []
   },
   "outputs": [],
   "source": [
    "# Import required libraries\n",
    "import os\n",
    "import psycopg2\n",
    "from psycopg2.extras import RealDictCursor\n",
    "import pandas as pd\n",
    "from sqlalchemy import create_engine\n",
    "\n",
    "# Optional: Load from .env file if you have one\n",
    "from dotenv import load_dotenv\n",
    "load_dotenv(\".env\")\n",
    "\n",
    "# Or just define inline\n",
    "PG_CONN = {\n",
    "    \"host\": os.getenv(\"POSTGRES_HOST\", \"pg01\"),\n",
    "    \"port\": os.getenv(\"POSTGRES_PORT\", \"5432\"),\n",
    "    \"dbname\": os.getenv(\"POSTGRES_DB\", \"stocks\"),\n",
    "    \"user\": os.getenv(\"POSTGRES_USER\", \"elyra\"),\n",
    "    \"password\": os.getenv(\"POSTGRES_PASSWORD\", \"elyrapass\"),\n",
    "}"
   ]
  },
  {
   "cell_type": "code",
   "execution_count": 16,
   "id": "e55e064e-8e04-4568-86a4-d32f204576ea",
   "metadata": {
    "tags": []
   },
   "outputs": [],
   "source": [
    "DB_HOST = PG_CONN[\"host\"]\n",
    "DB_PORT = PG_CONN[\"port\"]\n",
    "DB_NAME = PG_CONN[\"dbname\"]\n",
    "DB_USER = PG_CONN[\"user\"]\n",
    "DB_PASS = PG_CONN[\"password\"]\n",
    "\n",
    "conn = psycopg2.connect(\n",
    "    host=DB_HOST,\n",
    "    port=DB_PORT,\n",
    "    dbname=DB_NAME,\n",
    "    user=DB_USER,\n",
    "    password=DB_PASS\n",
    ")"
   ]
  },
  {
   "cell_type": "code",
   "execution_count": 17,
   "id": "bd429f1f-27fe-40cf-8401-610ee6801cb4",
   "metadata": {
    "tags": []
   },
   "outputs": [
    {
     "name": "stderr",
     "output_type": "stream",
     "text": [
      "/tmp/ipykernel_554/3577724060.py:8: UserWarning: pandas only supports SQLAlchemy connectable (engine/connection) or database string URI or sqlite3 DBAPI2 connection. Other DBAPI2 objects are not tested. Please consider using SQLAlchemy.\n",
      "  df_contracts = pd.read_sql(query, conn)\n"
     ]
    },
    {
     "data": {
      "text/html": [
       "<div>\n",
       "<style scoped>\n",
       "    .dataframe tbody tr th:only-of-type {\n",
       "        vertical-align: middle;\n",
       "    }\n",
       "\n",
       "    .dataframe tbody tr th {\n",
       "        vertical-align: top;\n",
       "    }\n",
       "\n",
       "    .dataframe thead th {\n",
       "        text-align: right;\n",
       "    }\n",
       "</style>\n",
       "<table border=\"1\" class=\"dataframe\">\n",
       "  <thead>\n",
       "    <tr style=\"text-align: right;\">\n",
       "      <th></th>\n",
       "      <th>contract_code</th>\n",
       "      <th>contract_type</th>\n",
       "      <th>delivery_date</th>\n",
       "      <th>onboard_date</th>\n",
       "      <th>status</th>\n",
       "      <th>last_updated</th>\n",
       "      <th>underlying_type</th>\n",
       "    </tr>\n",
       "  </thead>\n",
       "  <tbody>\n",
       "    <tr>\n",
       "      <th>0</th>\n",
       "      <td>1000000BOBUSDT</td>\n",
       "      <td>PERPETUAL</td>\n",
       "      <td>2100-12-25 08:00:00+00:00</td>\n",
       "      <td>2025-06-05 08:30:00+00:00</td>\n",
       "      <td>TRADING</td>\n",
       "      <td>2025-08-23 10:42:52.919873+00:00</td>\n",
       "      <td>usdt</td>\n",
       "    </tr>\n",
       "    <tr>\n",
       "      <th>1</th>\n",
       "      <td>1000000MOGUSDT</td>\n",
       "      <td>PERPETUAL</td>\n",
       "      <td>2100-12-25 08:00:00+00:00</td>\n",
       "      <td>2024-11-07 12:30:00+00:00</td>\n",
       "      <td>TRADING</td>\n",
       "      <td>2025-08-23 10:42:52.919873+00:00</td>\n",
       "      <td>usdt</td>\n",
       "    </tr>\n",
       "    <tr>\n",
       "      <th>2</th>\n",
       "      <td>1000BONKUSDC</td>\n",
       "      <td>PERPETUAL</td>\n",
       "      <td>2100-12-25 08:00:00+00:00</td>\n",
       "      <td>2024-05-02 07:00:00+00:00</td>\n",
       "      <td>TRADING</td>\n",
       "      <td>2025-08-23 10:42:52.919873+00:00</td>\n",
       "      <td>usdt</td>\n",
       "    </tr>\n",
       "    <tr>\n",
       "      <th>3</th>\n",
       "      <td>1000BONKUSDT</td>\n",
       "      <td>PERPETUAL</td>\n",
       "      <td>2100-12-25 08:00:00+00:00</td>\n",
       "      <td>2023-11-22 14:00:00+00:00</td>\n",
       "      <td>TRADING</td>\n",
       "      <td>2025-08-23 10:42:52.919873+00:00</td>\n",
       "      <td>usdt</td>\n",
       "    </tr>\n",
       "    <tr>\n",
       "      <th>4</th>\n",
       "      <td>1000CATUSDT</td>\n",
       "      <td>PERPETUAL</td>\n",
       "      <td>2100-12-25 08:00:00+00:00</td>\n",
       "      <td>2024-10-21 12:30:00+00:00</td>\n",
       "      <td>TRADING</td>\n",
       "      <td>2025-08-23 10:42:52.919873+00:00</td>\n",
       "      <td>usdt</td>\n",
       "    </tr>\n",
       "  </tbody>\n",
       "</table>\n",
       "</div>"
      ],
      "text/plain": [
       "    contract_code contract_type             delivery_date  \\\n",
       "0  1000000BOBUSDT     PERPETUAL 2100-12-25 08:00:00+00:00   \n",
       "1  1000000MOGUSDT     PERPETUAL 2100-12-25 08:00:00+00:00   \n",
       "2    1000BONKUSDC     PERPETUAL 2100-12-25 08:00:00+00:00   \n",
       "3    1000BONKUSDT     PERPETUAL 2100-12-25 08:00:00+00:00   \n",
       "4     1000CATUSDT     PERPETUAL 2100-12-25 08:00:00+00:00   \n",
       "\n",
       "               onboard_date   status                     last_updated  \\\n",
       "0 2025-06-05 08:30:00+00:00  TRADING 2025-08-23 10:42:52.919873+00:00   \n",
       "1 2024-11-07 12:30:00+00:00  TRADING 2025-08-23 10:42:52.919873+00:00   \n",
       "2 2024-05-02 07:00:00+00:00  TRADING 2025-08-23 10:42:52.919873+00:00   \n",
       "3 2023-11-22 14:00:00+00:00  TRADING 2025-08-23 10:42:52.919873+00:00   \n",
       "4 2024-10-21 12:30:00+00:00  TRADING 2025-08-23 10:42:52.919873+00:00   \n",
       "\n",
       "  underlying_type  \n",
       "0            usdt  \n",
       "1            usdt  \n",
       "2            usdt  \n",
       "3            usdt  \n",
       "4            usdt  "
      ]
     },
     "execution_count": 17,
     "metadata": {},
     "output_type": "execute_result"
    }
   ],
   "source": [
    "# Create engine\n",
    "engine = create_engine(db_url)\n",
    "\n",
    "# Query into DataFrame\n",
    "query = \"SELECT * FROM futures_contracts LIMIT 10;\"\n",
    "df_contracts = pd.read_sql(query, engine)\n",
    "\n",
    "df_contracts.head()\n"
   ]
  },
  {
   "cell_type": "code",
   "execution_count": null,
   "id": "cfcb32a3-733c-401e-99ef-00b63296e6b2",
   "metadata": {},
   "outputs": [],
   "source": []
  }
 ],
 "metadata": {
  "kernelspec": {
   "display_name": "Python 3 (ipykernel)",
   "language": "python",
   "name": "python3"
  },
  "language_info": {
   "codemirror_mode": {
    "name": "ipython",
    "version": 3
   },
   "file_extension": ".py",
   "mimetype": "text/x-python",
   "name": "python",
   "nbconvert_exporter": "python",
   "pygments_lexer": "ipython3",
   "version": "3.9.7"
  }
 },
 "nbformat": 4,
 "nbformat_minor": 5
}
