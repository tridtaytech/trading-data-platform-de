{
 "cells": [
  {
   "cell_type": "code",
   "execution_count": 1,
   "id": "9491b1ae-ba41-4c99-b8da-d183605a02b9",
   "metadata": {
    "tags": []
   },
   "outputs": [
    {
     "name": "stdout",
     "output_type": "stream",
     "text": [
      "Requirement already satisfied: kafka-python in /opt/conda/lib/python3.9/site-packages (2.2.15)\n",
      "Requirement already satisfied: requests in /opt/conda/lib/python3.9/site-packages (2.28.2)\n",
      "Requirement already satisfied: charset-normalizer<4,>=2 in /opt/conda/lib/python3.9/site-packages (from requests) (2.0.0)\n",
      "Requirement already satisfied: idna<4,>=2.5 in /opt/conda/lib/python3.9/site-packages (from requests) (3.1)\n",
      "Requirement already satisfied: urllib3<1.27,>=1.21.1 in /opt/conda/lib/python3.9/site-packages (from requests) (1.26.7)\n",
      "Requirement already satisfied: certifi>=2017.4.17 in /opt/conda/lib/python3.9/site-packages (from requests) (2021.10.8)\n"
     ]
    }
   ],
   "source": [
    "# Cell 1: Install dependencies (run only once)\n",
    "!pip install kafka-python requests\n"
   ]
  },
  {
   "cell_type": "code",
   "execution_count": 2,
   "id": "260d800b-3214-4509-81c6-e2764360d5d7",
   "metadata": {
    "tags": []
   },
   "outputs": [],
   "source": [
    "# Cell 2: Import libraries\n",
    "import requests\n",
    "import json\n",
    "import time\n",
    "from datetime import datetime\n",
    "from kafka import KafkaProducer\n"
   ]
  },
  {
   "cell_type": "code",
   "execution_count": 3,
   "id": "eefdba14-72a0-46ea-9234-01d4ea292687",
   "metadata": {
    "tags": []
   },
   "outputs": [
    {
     "name": "stdout",
     "output_type": "stream",
     "text": [
      "✅ Kafka Producer Ready\n"
     ]
    }
   ],
   "source": [
    "# Cell 3: Setup Kafka Producer\n",
    "producer = KafkaProducer(\n",
    "    bootstrap_servers=[\"kafka:29092\"],  # เปลี่ยนให้ตรงกับ Kafka broker ของคุณ\n",
    "    value_serializer=lambda v: json.dumps(v).encode(\"utf-8\")\n",
    ")\n",
    "\n",
    "print(\"✅ Kafka Producer Ready\")\n"
   ]
  },
  {
   "cell_type": "code",
   "execution_count": 4,
   "id": "28623a43-f9fb-4bbc-8e67-1c58669513c2",
   "metadata": {
    "tags": []
   },
   "outputs": [],
   "source": [
    "# Cell 4: Binance API fetch function\n",
    "BINANCE_API = \"https://fapi.binance.com/fapi/v1/fundingRate\"\n",
    "\n",
    "def fetch_funding_rate(symbol: str, limit: int = 1):\n",
    "    \"\"\"\n",
    "    ดึงข้อมูล funding fee rate จาก Binance Futures\n",
    "    symbol เช่น 'BTCUSDT'\n",
    "    limit = จำนวน record (default 1 ล่าสุด)\n",
    "    \"\"\"\n",
    "    params = {\"symbol\": symbol, \"limit\": limit}\n",
    "    r = requests.get(BINANCE_API, params=params)\n",
    "    r.raise_for_status()\n",
    "    return r.json()\n"
   ]
  },
  {
   "cell_type": "code",
   "execution_count": 5,
   "id": "65bc38c7-32ba-4687-bcf2-04a6d1881170",
   "metadata": {
    "tags": []
   },
   "outputs": [],
   "source": [
    "# Cell 5: Function ส่งข้อมูลเข้า Kafka\n",
    "def stream(symbols):\n",
    "    for symbol in symbols:\n",
    "        data = fetch_funding_rate(symbol)\n",
    "        for entry in data:\n",
    "            message = {\n",
    "                \"exchange\": \"binance\",\n",
    "                \"symbol\": entry[\"symbol\"],\n",
    "                \"funding_time\": datetime.fromtimestamp(entry[\"fundingTime\"]/1000).isoformat(),\n",
    "                \"funding_rate\": float(entry[\"fundingRate\"]),\n",
    "                \"mark_price\": float(entry[\"markPrice\"]) \n",
    "            }\n",
    "            producer.send(\"funding_rate\", message)\n",
    "            print(\"📤 Sent:\", message)\n"
   ]
  },
  {
   "cell_type": "code",
   "execution_count": 6,
   "id": "7740e087-f25c-4dc8-bac2-11abf6532b8c",
   "metadata": {
    "tags": []
   },
   "outputs": [
    {
     "name": "stdout",
     "output_type": "stream",
     "text": [
      "📤 Sent: {'exchange': 'binance', 'symbol': 'BTCUSDT', 'funding_time': '2025-08-23T16:00:00', 'funding_rate': 9.711e-05, 'mark_price': 114778.21648188}\n",
      "📤 Sent: {'exchange': 'binance', 'symbol': 'ETHUSDT', 'funding_time': '2025-08-23T16:00:00', 'funding_rate': 0.0001, 'mark_price': 4749.5566938}\n",
      "📤 Sent: {'exchange': 'binance', 'symbol': 'BNBUSDT', 'funding_time': '2025-08-23T16:00:00', 'funding_rate': 0.00012106, 'mark_price': 889.17}\n",
      "⏳ Sleeping 5 minutes...\n"
     ]
    },
    {
     "ename": "KeyboardInterrupt",
     "evalue": "",
     "output_type": "error",
     "traceback": [
      "\u001b[0;31m---------------------------------------------------------------------------\u001b[0m",
      "\u001b[0;31mKeyboardInterrupt\u001b[0m                         Traceback (most recent call last)",
      "\u001b[0;32m/tmp/ipykernel_9323/440701623.py\u001b[0m in \u001b[0;36m<module>\u001b[0;34m\u001b[0m\n\u001b[1;32m      5\u001b[0m     \u001b[0mstream\u001b[0m\u001b[0;34m(\u001b[0m\u001b[0msymbols\u001b[0m\u001b[0;34m)\u001b[0m\u001b[0;34m\u001b[0m\u001b[0;34m\u001b[0m\u001b[0m\n\u001b[1;32m      6\u001b[0m     \u001b[0mprint\u001b[0m\u001b[0;34m(\u001b[0m\u001b[0;34m\"⏳ Sleeping 5 minutes...\"\u001b[0m\u001b[0;34m)\u001b[0m\u001b[0;34m\u001b[0m\u001b[0;34m\u001b[0m\u001b[0m\n\u001b[0;32m----> 7\u001b[0;31m     \u001b[0mtime\u001b[0m\u001b[0;34m.\u001b[0m\u001b[0msleep\u001b[0m\u001b[0;34m(\u001b[0m\u001b[0;36m300\u001b[0m\u001b[0;34m)\u001b[0m  \u001b[0;31m# 5 นาที\u001b[0m\u001b[0;34m\u001b[0m\u001b[0;34m\u001b[0m\u001b[0m\n\u001b[0m",
      "\u001b[0;31mKeyboardInterrupt\u001b[0m: "
     ]
    }
   ],
   "source": [
    "# Cell 6: Run streaming loop (Press Stop to interrupt)\n",
    "symbols = [\"BTCUSDT\", \"ETHUSDT\", \"BNBUSDT\"]  # คุณสามารถโหลด symbol list จาก exchangeInfo API ได้\n",
    "\n",
    "while True:\n",
    "    stream(symbols)\n",
    "    print(\"⏳ Sleeping 5 minutes...\")\n",
    "    time.sleep(300)  # 5 นาที\n"
   ]
  },
  {
   "cell_type": "code",
   "execution_count": null,
   "id": "04639ab7-5fb7-4686-b9eb-46cb4a87d831",
   "metadata": {},
   "outputs": [],
   "source": []
  }
 ],
 "metadata": {
  "kernelspec": {
   "display_name": "Python 3 (ipykernel)",
   "language": "python",
   "name": "python3"
  },
  "language_info": {
   "codemirror_mode": {
    "name": "ipython",
    "version": 3
   },
   "file_extension": ".py",
   "mimetype": "text/x-python",
   "name": "python",
   "nbconvert_exporter": "python",
   "pygments_lexer": "ipython3",
   "version": "3.9.7"
  }
 },
 "nbformat": 4,
 "nbformat_minor": 5
}
